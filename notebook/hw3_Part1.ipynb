{
 "cells": [
  {
   "cell_type": "code",
   "execution_count": null,
   "metadata": {},
   "outputs": [],
   "source": [
    "# The list of candies to print to the screen\n",
    "candy_list = [\"Snickers\", \"Kit Kat\", \"Sour Patch Kids\", \"Juicy Fruit\", \"Swedish Fish\", \"Skittles\", \"Hershey Bar\", \"Starbursts\", \"M&Ms\"]\n",
    "print(\"Here are the available candies:\")\n",
    "# enumerate function \n",
    "for index , value in enumerate(candy_list):\n",
    "  # print(index, value)\n",
    "  print(f\"[{str(index+1)}]  {candy_list[index]}\")\n",
    "# The amount of candy the user will be allowed to choose\n",
    "allowance = 5\n",
    "my_selection = []\n",
    "for _ in range(allowance):\n",
    "  selection = input(\"What candies do you choose? Enter a number \")\n",
    "  my_selection.append(candy_list[int(selection)-1])\n",
    "print(\"Hey, this is your candy selection.\")\n",
    "# print(my_selection)\n",
    "for candy in my_selection:\n",
    "  print(candy)"
   ]
  }
 ],
 "metadata": {
  "kernelspec": {
   "display_name": "Python 3.8.9 64-bit",
   "language": "python",
   "name": "python3"
  },
  "language_info": {
   "codemirror_mode": {
    "name": "ipython",
    "version": 3
   },
   "file_extension": ".py",
   "mimetype": "text/x-python",
   "name": "python",
   "nbconvert_exporter": "python",
   "pygments_lexer": "ipython3",
   "version": "3.8.9"
  },
  "orig_nbformat": 4,
  "vscode": {
   "interpreter": {
    "hash": "31f2aee4e71d21fbe5cf8b01ff0e069b9275f58929596ceb00d14d90e3e16cd6"
   }
  }
 },
 "nbformat": 4,
 "nbformat_minor": 2
}
